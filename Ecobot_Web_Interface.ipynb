{
  "nbformat": 4,
  "nbformat_minor": 0,
  "metadata": {
    "colab": {
      "provenance": [],
      "authorship_tag": "ABX9TyOfu8ITRvOt3y3Vv5Makfsp",
      "include_colab_link": true
    },
    "kernelspec": {
      "name": "python3",
      "display_name": "Python 3"
    },
    "language_info": {
      "name": "python"
    }
  },
  "cells": [
    {
      "cell_type": "markdown",
      "metadata": {
        "id": "view-in-github",
        "colab_type": "text"
      },
      "source": [
        "<a href=\"https://colab.research.google.com/github/Git-Shreeram/my-chatbot/blob/main/Ecobot_Web_Interface.ipynb\" target=\"_parent\"><img src=\"https://colab.research.google.com/assets/colab-badge.svg\" alt=\"Open In Colab\"/></a>"
      ]
    },
    {
      "cell_type": "markdown",
      "source": [
        "# Install Flask and ngrok for running the web server and tunneling\n"
      ],
      "metadata": {
        "id": "hsF3SI61wZeh"
      }
    },
    {
      "cell_type": "code",
      "source": [
        "# Install Flask and ngrok for running the web server and tunneling\n",
        "!pip install flask\n",
        "!pip install pyngrok\n"
      ],
      "metadata": {
        "colab": {
          "base_uri": "https://localhost:8080/"
        },
        "id": "Bw4JqKkuwTKw",
        "outputId": "45cead95-305b-4951-d5e9-5ebace9a134d"
      },
      "execution_count": 9,
      "outputs": [
        {
          "output_type": "stream",
          "name": "stdout",
          "text": [
            "Requirement already satisfied: flask in /usr/local/lib/python3.10/dist-packages (2.2.5)\n",
            "Requirement already satisfied: Werkzeug>=2.2.2 in /usr/local/lib/python3.10/dist-packages (from flask) (3.0.3)\n",
            "Requirement already satisfied: Jinja2>=3.0 in /usr/local/lib/python3.10/dist-packages (from flask) (3.1.4)\n",
            "Requirement already satisfied: itsdangerous>=2.0 in /usr/local/lib/python3.10/dist-packages (from flask) (2.2.0)\n",
            "Requirement already satisfied: click>=8.0 in /usr/local/lib/python3.10/dist-packages (from flask) (8.1.7)\n",
            "Requirement already satisfied: MarkupSafe>=2.0 in /usr/local/lib/python3.10/dist-packages (from Jinja2>=3.0->flask) (2.1.5)\n",
            "Requirement already satisfied: pyngrok in /usr/local/lib/python3.10/dist-packages (7.1.6)\n",
            "Requirement already satisfied: PyYAML>=5.1 in /usr/local/lib/python3.10/dist-packages (from pyngrok) (6.0.1)\n"
          ]
        }
      ]
    },
    {
      "cell_type": "markdown",
      "source": [
        "Define the Flask Application and Create Static Files"
      ],
      "metadata": {
        "id": "kCMFyyuTwlmu"
      }
    },
    {
      "cell_type": "code",
      "source": [
        "import os\n",
        "from flask import Flask, send_from_directory, render_template_string\n",
        "from pyngrok import ngrok\n",
        "\n",
        "# Initialize the Flask application\n",
        "app = Flask(__name__)\n",
        "\n",
        "# Define the route for the homepage\n",
        "@app.route('/')\n",
        "def index():\n",
        "    html_content = '''\n",
        "    <!DOCTYPE html>\n",
        "    <html lang=\"en\">\n",
        "    <head>\n",
        "        <meta charset=\"UTF-8\">\n",
        "        <meta name=\"viewport\" content=\"width=device-width, initial-scale=1.0\">\n",
        "        <title>Ecobot - Your Carbon Footprint Assistant</title>\n",
        "        <link rel=\"stylesheet\" href=\"/static/styles.css\">\n",
        "    </head>\n",
        "    <body>\n",
        "        <header>\n",
        "            <h1>Ecobot</h1>\n",
        "            <p>Your Carbon Footprint Assistant</p>\n",
        "        </header>\n",
        "        <main>\n",
        "            <section class=\"intro\">\n",
        "                <h2>Welcome to Ecobot!</h2>\n",
        "                <p>Learn how to reduce your carbon footprint with personalized advice and actionable steps.</p>\n",
        "            </section>\n",
        "            <section class=\"chatbot\">\n",
        "                <div id=\"webchat\" role=\"main\"></div>\n",
        "            </section>\n",
        "        </main>\n",
        "        <footer>\n",
        "            <p>&copy; 2024 Ecobot. All rights reserved.</p>\n",
        "        </footer>\n",
        "        <script src=\"https://cdn.botframework.com/botframework-webchat/latest/webchat.js\"></script>\n",
        "        <script src=\"/static/script.js\"></script>\n",
        "    </body>\n",
        "    </html>\n",
        "    '''\n",
        "    return render_template_string(html_content)\n",
        "\n",
        "# Route to serve static files\n",
        "@app.route('/static/<path:path>')\n",
        "def send_static(path):\n",
        "    return send_from_directory('static', path)\n",
        "\n",
        "# Define the content for the CSS file\n",
        "styles_css = \"\"\"\n",
        "body {\n",
        "    font-family: Arial, sans-serif;\n",
        "    margin: 0;\n",
        "    padding: 0;\n",
        "    box-sizing: border-box;\n",
        "    display: flex;\n",
        "    flex-direction: column;\n",
        "    min-height: 100vh;\n",
        "}\n",
        "\n",
        "header {\n",
        "    background-color: #4CAF50;\n",
        "    color: white;\n",
        "    padding: 1rem;\n",
        "    text-align: center;\n",
        "}\n",
        "\n",
        "main {\n",
        "    flex: 1;\n",
        "    padding: 2rem;\n",
        "    text-align: center;\n",
        "}\n",
        "\n",
        ".intro {\n",
        "    margin-bottom: 2rem;\n",
        "}\n",
        "\n",
        ".chatbot {\n",
        "    display: flex;\n",
        "    justify-content: center;\n",
        "}\n",
        "\n",
        "#webchat {\n",
        "    width: 100%;\n",
        "    max-width: 600px;\n",
        "    height: 500px;\n",
        "    border: 1px solid #ccc;\n",
        "    border-radius: 5px;\n",
        "}\n",
        "\n",
        "footer {\n",
        "    background-color: #f1f1f1;\n",
        "    padding: 1rem;\n",
        "    text-align: center;\n",
        "}\n",
        "\"\"\"\n",
        "\n",
        "# Define the content for the JavaScript file\n",
        "script_js = \"\"\"\n",
        "const directLineSecret = 'YOUR_DIRECT_LINE_SECRET'; // Replace with your actual Direct Line secret\n",
        "\n",
        "const { createDirectLine, renderWebChat } = window.WebChat;\n",
        "\n",
        "const directLine = createDirectLine({\n",
        "    token: directLineSecret\n",
        "});\n",
        "\n",
        "const styleOptions = {\n",
        "    backgroundColor: '#F0F0F0',\n",
        "    bubbleBackground: '#FFFFFF',\n",
        "    bubbleTextColor: '#000000',\n",
        "    botAvatarImage: 'https://via.placeholder.com/150', // Placeholder image\n",
        "    botAvatarInitials: 'E', // Bot initials\n",
        "    userAvatarInitials: 'U' // User initials\n",
        "};\n",
        "\n",
        "renderWebChat(\n",
        "    {\n",
        "        directLine: directLine,\n",
        "        userID: 'USER_ID',\n",
        "        username: 'User',\n",
        "        styleOptions: styleOptions\n",
        "    },\n",
        "    document.getElementById('webchat')\n",
        ");\n",
        "\"\"\"\n",
        "\n",
        "# Create the static directory if it does not exist\n",
        "os.makedirs(\"static\", exist_ok=True)\n",
        "\n",
        "# Write CSS content to a file\n",
        "with open(\"static/styles.css\", \"w\") as f:\n",
        "    f.write(styles_css)\n",
        "\n",
        "# Write JavaScript content to a file\n",
        "with open(\"static/script.js\", \"w\") as f:\n",
        "    f.write(script_js)\n"
      ],
      "metadata": {
        "id": "8zqmeUgrwnS1"
      },
      "execution_count": 10,
      "outputs": []
    },
    {
      "cell_type": "markdown",
      "source": [
        "Run the Flask Application and Set Up ngrok"
      ],
      "metadata": {
        "id": "-7l_75V9wsUp"
      }
    },
    {
      "cell_type": "code",
      "source": [
        "# Start ngrok to tunnel the Flask application\n",
        "public_url = ngrok.connect(5000)\n",
        "print(f'Public URL: {public_url}')\n",
        "\n",
        "# Run the Flask application\n",
        "app.run(port=5000)\n"
      ],
      "metadata": {
        "id": "GOGSh9zpySz4"
      },
      "execution_count": null,
      "outputs": []
    }
  ]
}